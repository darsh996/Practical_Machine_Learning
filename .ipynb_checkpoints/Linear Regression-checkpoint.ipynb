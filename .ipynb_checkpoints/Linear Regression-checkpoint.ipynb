{
 "cells": [
  {
   "cell_type": "markdown",
   "id": "eff29bb1",
   "metadata": {},
   "source": [
    "# Linear Regression"
   ]
  },
  {
   "cell_type": "code",
   "execution_count": 1,
   "id": "4fb483ef",
   "metadata": {},
   "outputs": [],
   "source": [
    "import numpy as np\n",
    "import pandas as pd\n",
    "from sklearn.linear_model import LinearRegression\n",
    "import matplotlib.pyplot as plt"
   ]
  },
  {
   "cell_type": "code",
   "execution_count": 2,
   "id": "87cc7270",
   "metadata": {},
   "outputs": [],
   "source": [
    "x= np.array([3,5,6,1,7,8,9,10])\n",
    "r= np.array([0.1,-0.2,0.3,0.4,0.9,1.2,-1.3,1])"
   ]
  },
  {
   "cell_type": "code",
   "execution_count": 3,
   "id": "815bace1",
   "metadata": {},
   "outputs": [],
   "source": [
    "y = 3*x+5\n",
    "x = x+r"
   ]
  },
  {
   "cell_type": "code",
   "execution_count": 4,
   "id": "4abe4bdd",
   "metadata": {},
   "outputs": [
    {
     "data": {
      "text/plain": [
       "array([[1.        , 0.96793912],\n",
       "       [0.96793912, 1.        ]])"
      ]
     },
     "execution_count": 4,
     "metadata": {},
     "output_type": "execute_result"
    }
   ],
   "source": [
    "np.corrcoef(x,y)"
   ]
  },
  {
   "cell_type": "code",
   "execution_count": 5,
   "id": "61c608ec",
   "metadata": {},
   "outputs": [],
   "source": [
    "lr = LinearRegression()"
   ]
  },
  {
   "cell_type": "code",
   "execution_count": 6,
   "id": "15b7c309",
   "metadata": {},
   "outputs": [
    {
     "data": {
      "text/html": [
       "<style>#sk-container-id-1 {color: black;}#sk-container-id-1 pre{padding: 0;}#sk-container-id-1 div.sk-toggleable {background-color: white;}#sk-container-id-1 label.sk-toggleable__label {cursor: pointer;display: block;width: 100%;margin-bottom: 0;padding: 0.3em;box-sizing: border-box;text-align: center;}#sk-container-id-1 label.sk-toggleable__label-arrow:before {content: \"▸\";float: left;margin-right: 0.25em;color: #696969;}#sk-container-id-1 label.sk-toggleable__label-arrow:hover:before {color: black;}#sk-container-id-1 div.sk-estimator:hover label.sk-toggleable__label-arrow:before {color: black;}#sk-container-id-1 div.sk-toggleable__content {max-height: 0;max-width: 0;overflow: hidden;text-align: left;background-color: #f0f8ff;}#sk-container-id-1 div.sk-toggleable__content pre {margin: 0.2em;color: black;border-radius: 0.25em;background-color: #f0f8ff;}#sk-container-id-1 input.sk-toggleable__control:checked~div.sk-toggleable__content {max-height: 200px;max-width: 100%;overflow: auto;}#sk-container-id-1 input.sk-toggleable__control:checked~label.sk-toggleable__label-arrow:before {content: \"▾\";}#sk-container-id-1 div.sk-estimator input.sk-toggleable__control:checked~label.sk-toggleable__label {background-color: #d4ebff;}#sk-container-id-1 div.sk-label input.sk-toggleable__control:checked~label.sk-toggleable__label {background-color: #d4ebff;}#sk-container-id-1 input.sk-hidden--visually {border: 0;clip: rect(1px 1px 1px 1px);clip: rect(1px, 1px, 1px, 1px);height: 1px;margin: -1px;overflow: hidden;padding: 0;position: absolute;width: 1px;}#sk-container-id-1 div.sk-estimator {font-family: monospace;background-color: #f0f8ff;border: 1px dotted black;border-radius: 0.25em;box-sizing: border-box;margin-bottom: 0.5em;}#sk-container-id-1 div.sk-estimator:hover {background-color: #d4ebff;}#sk-container-id-1 div.sk-parallel-item::after {content: \"\";width: 100%;border-bottom: 1px solid gray;flex-grow: 1;}#sk-container-id-1 div.sk-label:hover label.sk-toggleable__label {background-color: #d4ebff;}#sk-container-id-1 div.sk-serial::before {content: \"\";position: absolute;border-left: 1px solid gray;box-sizing: border-box;top: 0;bottom: 0;left: 50%;z-index: 0;}#sk-container-id-1 div.sk-serial {display: flex;flex-direction: column;align-items: center;background-color: white;padding-right: 0.2em;padding-left: 0.2em;position: relative;}#sk-container-id-1 div.sk-item {position: relative;z-index: 1;}#sk-container-id-1 div.sk-parallel {display: flex;align-items: stretch;justify-content: center;background-color: white;position: relative;}#sk-container-id-1 div.sk-item::before, #sk-container-id-1 div.sk-parallel-item::before {content: \"\";position: absolute;border-left: 1px solid gray;box-sizing: border-box;top: 0;bottom: 0;left: 50%;z-index: -1;}#sk-container-id-1 div.sk-parallel-item {display: flex;flex-direction: column;z-index: 1;position: relative;background-color: white;}#sk-container-id-1 div.sk-parallel-item:first-child::after {align-self: flex-end;width: 50%;}#sk-container-id-1 div.sk-parallel-item:last-child::after {align-self: flex-start;width: 50%;}#sk-container-id-1 div.sk-parallel-item:only-child::after {width: 0;}#sk-container-id-1 div.sk-dashed-wrapped {border: 1px dashed gray;margin: 0 0.4em 0.5em 0.4em;box-sizing: border-box;padding-bottom: 0.4em;background-color: white;}#sk-container-id-1 div.sk-label label {font-family: monospace;font-weight: bold;display: inline-block;line-height: 1.2em;}#sk-container-id-1 div.sk-label-container {text-align: center;}#sk-container-id-1 div.sk-container {/* jupyter's `normalize.less` sets `[hidden] { display: none; }` but bootstrap.min.css set `[hidden] { display: none !important; }` so we also need the `!important` here to be able to override the default hidden behavior on the sphinx rendered scikit-learn.org. See: https://github.com/scikit-learn/scikit-learn/issues/21755 */display: inline-block !important;position: relative;}#sk-container-id-1 div.sk-text-repr-fallback {display: none;}</style><div id=\"sk-container-id-1\" class=\"sk-top-container\"><div class=\"sk-text-repr-fallback\"><pre>LinearRegression()</pre><b>In a Jupyter environment, please rerun this cell to show the HTML representation or trust the notebook. <br />On GitHub, the HTML representation is unable to render, please try loading this page with nbviewer.org.</b></div><div class=\"sk-container\" hidden><div class=\"sk-item\"><div class=\"sk-estimator sk-toggleable\"><input class=\"sk-toggleable__control sk-hidden--visually\" id=\"sk-estimator-id-1\" type=\"checkbox\" checked><label for=\"sk-estimator-id-1\" class=\"sk-toggleable__label sk-toggleable__label-arrow\">LinearRegression</label><div class=\"sk-toggleable__content\"><pre>LinearRegression()</pre></div></div></div></div></div>"
      ],
      "text/plain": [
       "LinearRegression()"
      ]
     },
     "execution_count": 6,
     "metadata": {},
     "output_type": "execute_result"
    }
   ],
   "source": [
    "lr.fit(x.reshape(-1,1),y)"
   ]
  },
  {
   "cell_type": "code",
   "execution_count": 7,
   "id": "f8a9d888",
   "metadata": {},
   "outputs": [
    {
     "name": "stdout",
     "output_type": "stream",
     "text": [
      "5.590272428041182\n",
      "[2.76805098]\n"
     ]
    }
   ],
   "source": [
    "intercept = lr.intercept_\n",
    "slope=lr.coef_\n",
    "print(intercept)\n",
    "print(slope)"
   ]
  },
  {
   "cell_type": "code",
   "execution_count": 8,
   "id": "d24a9976",
   "metadata": {},
   "outputs": [],
   "source": [
    "ycap = slope*x + intercept"
   ]
  },
  {
   "cell_type": "code",
   "execution_count": 9,
   "id": "19633ae8",
   "metadata": {},
   "outputs": [
    {
     "data": {
      "text/plain": [
       "<function matplotlib.pyplot.show(close=None, block=None)>"
      ]
     },
     "execution_count": 9,
     "metadata": {},
     "output_type": "execute_result"
    },
    {
     "data": {
      "image/png": "[encoded data removed]",
      "text/plain": [
       "<Figure size 640x480 with 1 Axes>"
      ]
     },
     "metadata": {},
     "output_type": "display_data"
    }
   ],
   "source": [
    "plt.scatter(x,y)\n",
    "plt.plot(x,ycap,c='red')\n",
    "plt.show"
   ]
  },
  {
   "cell_type": "code",
   "execution_count": 10,
   "id": "3bde4117",
   "metadata": {},
   "outputs": [
    {
     "data": {
      "text/plain": [
       "array([213.19409623])"
      ]
     },
     "execution_count": 10,
     "metadata": {},
     "output_type": "execute_result"
    }
   ],
   "source": [
    "ycap = slope*75 + intercept\n",
    "ycap"
   ]
  },
  {
   "cell_type": "code",
   "execution_count": 11,
   "id": "2579f12d",
   "metadata": {},
   "outputs": [
    {
     "data": {
      "text/plain": [
       "array([143.99282163])"
      ]
     },
     "execution_count": 11,
     "metadata": {},
     "output_type": "execute_result"
    }
   ],
   "source": [
    "ycap = slope*50 + intercept\n",
    "ycap"
   ]
  },
  {
   "cell_type": "code",
   "execution_count": 12,
   "id": "91df0487",
   "metadata": {},
   "outputs": [
    {
     "data": {
      "text/plain": [
       "array([116.31231179])"
      ]
     },
     "execution_count": 12,
     "metadata": {},
     "output_type": "execute_result"
    }
   ],
   "source": [
    "ycap = slope*40 + intercept\n",
    "ycap"
   ]
  },
  {
   "cell_type": "markdown",
   "id": "fa179202",
   "metadata": {},
   "source": [
    "## Dataset"
   ]
  },
  {
   "cell_type": "code",
   "execution_count": 13,
   "id": "14ff828d",
   "metadata": {},
   "outputs": [],
   "source": [
    "import os\n",
    "os.chdir(\"/Users/darshmac/Documents/cdac/For DBDA/Advance Analytics/Datasets\")"
   ]
  },
  {
   "cell_type": "code",
   "execution_count": 14,
   "id": "8b01f58b",
   "metadata": {},
   "outputs": [],
   "source": [
    "boston = pd.read_csv(\"Boston.csv\")"
   ]
  },
  {
   "cell_type": "code",
   "execution_count": 15,
   "id": "2a7589af",
   "metadata": {},
   "outputs": [],
   "source": [
    "x = boston['crim'].values\n",
    "y = boston['medv'].values "
   ]
  },
  {
   "cell_type": "code",
   "execution_count": 16,
   "id": "97d89f88",
   "metadata": {},
   "outputs": [
    {
     "name": "stdout",
     "output_type": "stream",
     "text": [
      "24.03310617412388\n",
      "[-0.41519028]\n",
      "-0.3883046085868115\n"
     ]
    }
   ],
   "source": [
    "lr = LinearRegression()\n",
    "lr.fit(x.reshape(-1, 1), y)\n",
    "print(lr.intercept_)\n",
    "print(lr.coef_)\n",
    "print(boston['crim'].corr(boston['medv']))"
   ]
  },
  {
   "cell_type": "code",
   "execution_count": 17,
   "id": "08d5bcc1",
   "metadata": {},
   "outputs": [],
   "source": [
    "ycap = lr.predict(x.reshape(-1, 1))"
   ]
  },
  {
   "cell_type": "code",
   "execution_count": 18,
   "id": "8ece583e",
   "metadata": {},
   "outputs": [
    {
     "data": {
      "image/png": "[encoded data removed]",
      "text/plain": [
       "<Figure size 640x480 with 1 Axes>"
      ]
     },
     "metadata": {},
     "output_type": "display_data"
    }
   ],
   "source": [
    "plt.scatter(x, y)\n",
    "plt.plot(x, ycap, c='red')\n",
    "plt.show()"
   ]
  },
  {
   "cell_type": "code",
   "execution_count": 19,
   "id": "03a24166",
   "metadata": {},
   "outputs": [
    {
     "name": "stdout",
     "output_type": "stream",
     "text": [
      "71.69073588196659\n",
      "71.69073588196659\n",
      "71.69073588196659\n",
      "6.135297186403407\n",
      "6.135297186403407\n",
      "0.15078046904975717\n",
      "0.15078046904975717\n"
     ]
    }
   ],
   "source": [
    "# MSE\n",
    "print(np.mean((y-ycap)**2))\n",
    "# or\n",
    "print(np.sum((y-ycap)**2)/506)\n",
    "# or\n",
    "from sklearn.metrics import mean_squared_error as mse\n",
    "print(mse(y, ycap))\n",
    "\n",
    "# MAE\n",
    "print( np.mean( np.absolute(y-ycap) ) )\n",
    "# OR\n",
    "from sklearn.metrics import mean_absolute_error as mae\n",
    "print(mae(y, ycap))\n",
    "\n",
    "# R2\n",
    "print( 1 - (np.sum((y-ycap)**2))/np.sum((y-y.mean())**2))\n",
    "# or\n",
    "from sklearn.metrics import r2_score \n",
    "print(r2_score(y, ycap))"
   ]
  },
  {
   "cell_type": "code",
   "execution_count": 20,
   "id": "704b081f",
   "metadata": {},
   "outputs": [
    {
     "data": {
      "text/html": [
       "<div>\n",
       "<style scoped>\n",
       "    .dataframe tbody tr th:only-of-type {\n",
       "        vertical-align: middle;\n",
       "    }\n",
       "\n",
       "    .dataframe tbody tr th {\n",
       "        vertical-align: top;\n",
       "    }\n",
       "\n",
       "    .dataframe thead th {\n",
       "        text-align: right;\n",
       "    }\n",
       "</style>\n",
       "<table border=\"1\" class=\"dataframe\">\n",
       "  <thead>\n",
       "    <tr style=\"text-align: right;\">\n",
       "      <th></th>\n",
       "      <th>Promote</th>\n",
       "      <th>Sales</th>\n",
       "    </tr>\n",
       "  </thead>\n",
       "  <tbody>\n",
       "    <tr>\n",
       "      <th>0</th>\n",
       "      <td>23</td>\n",
       "      <td>554</td>\n",
       "    </tr>\n",
       "    <tr>\n",
       "      <th>1</th>\n",
       "      <td>56</td>\n",
       "      <td>1339</td>\n",
       "    </tr>\n",
       "    <tr>\n",
       "      <th>2</th>\n",
       "      <td>34</td>\n",
       "      <td>815</td>\n",
       "    </tr>\n",
       "    <tr>\n",
       "      <th>3</th>\n",
       "      <td>25</td>\n",
       "      <td>609</td>\n",
       "    </tr>\n",
       "    <tr>\n",
       "      <th>4</th>\n",
       "      <td>67</td>\n",
       "      <td>1600</td>\n",
       "    </tr>\n",
       "  </tbody>\n",
       "</table>\n",
       "</div>"
      ],
      "text/plain": [
       "   Promote  Sales\n",
       "0       23    554\n",
       "1       56   1339\n",
       "2       34    815\n",
       "3       25    609\n",
       "4       67   1600"
      ]
     },
     "execution_count": 20,
     "metadata": {},
     "output_type": "execute_result"
    }
   ],
   "source": [
    "pza = pd.read_csv(\"pizza.csv\")\n",
    "pza.head()"
   ]
  },
  {
   "cell_type": "code",
   "execution_count": 31,
   "id": "8bb9ccbc",
   "metadata": {},
   "outputs": [],
   "source": [
    "x = pza['Promote'].values\n",
    "y = pza['Sales'].values"
   ]
  },
  {
   "cell_type": "code",
   "execution_count": 32,
   "id": "65bf57a7",
   "metadata": {},
   "outputs": [
    {
     "data": {
      "text/plain": [
       "array([[1.        , 0.99439168],\n",
       "       [0.99439168, 1.        ]])"
      ]
     },
     "execution_count": 32,
     "metadata": {},
     "output_type": "execute_result"
    }
   ],
   "source": [
    "np.corrcoef(x,y)#if we dont use values above then this will give problem as pandas dataframe series"
   ]
  },
  {
   "cell_type": "code",
   "execution_count": 33,
   "id": "f3717d62",
   "metadata": {},
   "outputs": [
    {
     "name": "stdout",
     "output_type": "stream",
     "text": [
      "5.4858653632529695\n",
      "[23.50640302]\n"
     ]
    }
   ],
   "source": [
    "lr = LinearRegression()\n",
    "lr.fit(x.reshape(-1,1),y)\n",
    "intercept = lr.intercept_\n",
    "print(intercept)\n",
    "slope = lr.coef_\n",
    "print(slope)"
   ]
  },
  {
   "cell_type": "code",
   "execution_count": 34,
   "id": "485281aa",
   "metadata": {},
   "outputs": [],
   "source": [
    "ycap = slope*x + intercept"
   ]
  },
  {
   "cell_type": "code",
   "execution_count": 36,
   "id": "44ff9e3f",
   "metadata": {},
   "outputs": [
    {
     "data": {
      "image/png": "[encoded data removed]",
      "text/plain": [
       "<Figure size 640x480 with 1 Axes>"
      ]
     },
     "metadata": {},
     "output_type": "display_data"
    }
   ],
   "source": [
    "plt.scatter(x,y)\n",
    "plt.plot(x,ycap,c='red')\n",
    "plt.show()"
   ]
  },
  {
   "cell_type": "code",
   "execution_count": 25,
   "id": "94d16e2c",
   "metadata": {},
   "outputs": [
    {
     "name": "stdout",
     "output_type": "stream",
     "text": [
      "ycap 1768.466091863253\n",
      "ycap 1180.806016363253\n",
      "ycap 945.7419861632529\n"
     ]
    }
   ],
   "source": [
    "for x in [75,50,40]:\n",
    "    print(\"ycap\",23.50640302*x + 5.4858653632529695)"
   ]
  },
  {
   "cell_type": "markdown",
   "id": "e0a8b7db",
   "metadata": {},
   "source": [
    "### Mean Squared Error And Mean Absolute Error And R-squared"
   ]
  },
  {
   "cell_type": "code",
   "execution_count": null,
   "id": "73923367",
   "metadata": {},
   "outputs": [],
   "source": [
    "insure = pd.read_csv(\"Insure_auto.csv\",index_col=0)\n",
    "x1 = insure['Home'].values\n",
    "x2 = insure['Automobile'].values\n",
    "y = insure['Operating_Cost'].values"
   ]
  },
  {
   "cell_type": "code",
   "execution_count": null,
   "id": "deb60860",
   "metadata": {},
   "outputs": [],
   "source": [
    "from sklearn.metrics import mean_absolute_error as mae\n",
    "from sklearn.metrics import mean_squared_error as mse"
   ]
  },
  {
   "cell_type": "code",
   "execution_count": null,
   "id": "a7e97a00",
   "metadata": {},
   "outputs": [],
   "source": [
    "lr1 = LinearRegression()\n",
    "lr1.fit(x1.reshape(-1,1),y)"
   ]
  },
  {
   "cell_type": "code",
   "execution_count": null,
   "id": "cad9a96e",
   "metadata": {},
   "outputs": [],
   "source": [
    "y_predx1 = lr1.predict(x1.reshape(-1,1))"
   ]
  },
  {
   "cell_type": "code",
   "execution_count": null,
   "id": "a2f66678",
   "metadata": {},
   "outputs": [],
   "source": [
    "print(mse(y,y_predx1))\n",
    "print(mae(y,y_predx1))"
   ]
  },
  {
   "cell_type": "code",
   "execution_count": null,
   "id": "32b093b2",
   "metadata": {},
   "outputs": [],
   "source": [
    "plt.scatter(x1,y)\n",
    "plt.xlabel(\"Home\")\n",
    "plt.ylabel(\"Operating_Cost\")\n",
    "plt.plot(x1,y_predx1,c='red')\n",
    "plt.show"
   ]
  },
  {
   "cell_type": "code",
   "execution_count": null,
   "id": "b575fe95",
   "metadata": {},
   "outputs": [],
   "source": [
    "lr1 = LinearRegression()\n",
    "lr1.fit(x2.reshape(-1,1),y)"
   ]
  },
  {
   "cell_type": "code",
   "execution_count": null,
   "id": "d6855b3d",
   "metadata": {},
   "outputs": [],
   "source": [
    "y_predx2 = lr1.predict(x2.reshape(-1,1))"
   ]
  },
  {
   "cell_type": "code",
   "execution_count": null,
   "id": "1290b367",
   "metadata": {},
   "outputs": [],
   "source": [
    "print(mse(y,y_predx2))\n",
    "print(mae(y,y_predx2))"
   ]
  },
  {
   "cell_type": "code",
   "execution_count": null,
   "id": "6bf919a6",
   "metadata": {},
   "outputs": [],
   "source": [
    "plt.scatter(x2,y)\n",
    "plt.xlabel(\"Automobile\")\n",
    "plt.ylabel(\"Operating_Cost\")\n",
    "plt.plot(x2,y_predx2,c='red')\n",
    "plt.show"
   ]
  },
  {
   "cell_type": "code",
   "execution_count": null,
   "id": "f0683710",
   "metadata": {},
   "outputs": [],
   "source": [
    "plt.scatter(x1,y)\n",
    "plt.xlabel(\"Home\")\n",
    "plt.ylabel(\"Operating_Cost\")\n",
    "plt.plot(x1,y_predx1,c='red')\n",
    "plt.scatter(x2,y)\n",
    "plt.xlabel(\"Automobile\")\n",
    "plt.ylabel(\"Operating_Cost\")\n",
    "plt.plot(x2,y_predx2,c='red')\n",
    "#plt.show()"
   ]
  },
  {
   "cell_type": "code",
   "execution_count": null,
   "id": "de8ce6e9",
   "metadata": {},
   "outputs": [],
   "source": [
    "fig, (ax1, ax2) = plt.subplots(1, 2, figsize=(12, 4))\n",
    "# Plot for the first subplot\n",
    "ax1.scatter(x1, y)\n",
    "ax1.set_xlabel(\"Home\")\n",
    "ax1.set_ylabel(\"Operating_Cost\")\n",
    "ax1.plot(x1, y_predx1, c='red')\n",
    "ax1.set_title(\"Home\")\n",
    "\n",
    "# Plot for the second subplot\n",
    "ax2.scatter(x2, y)\n",
    "ax2.set_xlabel(\"Automobile\")\n",
    "ax2.set_ylabel(\"Operating_Cost\")\n",
    "ax2.plot(x2, y_predx2, c='red')\n",
    "ax2.set_title(\"Automobile\")\n",
    "\n",
    "# Adjust layout to prevent clipping of titles\n",
    "plt.tight_layout()\n",
    "\n",
    "# Show the plot\n",
    "plt.show()"
   ]
  },
  {
   "cell_type": "code",
   "execution_count": null,
   "id": "d493f5f9",
   "metadata": {},
   "outputs": [],
   "source": []
  }
 ],
 "metadata": {
  "kernelspec": {
   "display_name": "Python 3 (ipykernel)",
   "language": "python",
   "name": "python3"
  },
  "language_info": {
   "codemirror_mode": {
    "name": "ipython",
    "version": 3
   },
   "file_extension": ".py",
   "mimetype": "text/x-python",
   "name": "python",
   "nbconvert_exporter": "python",
   "pygments_lexer": "ipython3",
   "version": "3.9.18"
  }
 },
 "nbformat": 4,
 "nbformat_minor": 5
}
