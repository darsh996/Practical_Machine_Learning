{
 "cells": [
  {
   "cell_type": "markdown",
   "id": "3bdb52d0",
   "metadata": {},
   "source": [
    "alphas = np.linspace(0.001,15,20)\n",
    "scores=[]\n",
    "for v in alphas:\n",
    "    lasso = Lasso(alpha=v)\n",
    "    lasso.fit(X_train,y_train)\n",
    "    y_pred = lasso.predict(X_test)\n",
    "    scr = r2_score(y_test,y_pred)\n",
    "    scores.append(scr)\n",
    "    print(\"Alpha=\",v,\"R2 =\",scr)"
   ]
  },
  {
   "cell_type": "markdown",
   "id": "fc79ac23",
   "metadata": {},
   "source": [
    "The way we did above code using loop can be achived using GridSearchCV as well"
   ]
  },
  {
   "cell_type": "code",
   "execution_count": 13,
   "id": "d310fed2",
   "metadata": {},
   "outputs": [],
   "source": [
    "import numpy as np\n",
    "import pandas as pd\n",
    "from sklearn.model_selection import KFold\n",
    "from sklearn.linear_model import Ridge\n",
    "from sklearn.linear_model import Lasso\n",
    "from sklearn.linear_model import ElasticNet\n",
    "from sklearn.model_selection import GridSearchCV,cross_val_score\n",
    "import os\n",
    "os.chdir(\"/Users/darshmac/Documents/cdac/For DBDA/Advance Analytics/Datasets\")"
   ]
  },
  {
   "cell_type": "code",
   "execution_count": 5,
   "id": "cc87616f",
   "metadata": {},
   "outputs": [],
   "source": [
    "boston = pd.read_csv(\"Boston.csv\")\n",
    "X = boston.drop('medv',axis=1)\n",
    "y = boston['medv']"
   ]
  },
  {
   "cell_type": "code",
   "execution_count": 8,
   "id": "740a30e2",
   "metadata": {},
   "outputs": [
    {
     "name": "stdout",
     "output_type": "stream",
     "text": [
      "{'alpha': 0.001}\n",
      "0.7185765190852423\n"
     ]
    }
   ],
   "source": [
    "kfold = KFold(n_splits=5,shuffle=True,random_state=23)\n",
    "alphas = np.linspace(0.001,15,20)\n",
    "ridge = Ridge()\n",
    "param = {'alpha' : alphas}\n",
    "gcv = GridSearchCV(ridge,param_grid=param,cv = kfold)\n",
    "gcv.fit(X,y)\n",
    "print(gcv.best_params_)\n",
    "print(gcv.best_score_)"
   ]
  },
  {
   "cell_type": "code",
   "execution_count": 12,
   "id": "8c2af1d2",
   "metadata": {},
   "outputs": [
    {
     "name": "stdout",
     "output_type": "stream",
     "text": [
      "{'alpha': 0.001}\n",
      "0.7185811395066943\n"
     ]
    }
   ],
   "source": [
    "lasso = Lasso()\n",
    "param = {'alpha' : alphas}\n",
    "gcv = GridSearchCV(lasso,param_grid=param,cv = kfold)\n",
    "gcv.fit(X,y)\n",
    "print(gcv.best_params_)\n",
    "print(gcv.best_score_)"
   ]
  },
  {
   "cell_type": "code",
   "execution_count": 14,
   "id": "7878e38e",
   "metadata": {},
   "outputs": [
    {
     "name": "stdout",
     "output_type": "stream",
     "text": [
      "{'alpha': 0.001}\n",
      "0.7185944931838284\n"
     ]
    }
   ],
   "source": [
    "alphas = np.linspace(0.001,12,20)\n",
    "l1_s = np.linspace(0,1,10)\n",
    "params = {'alpha':alphas,\n",
    "         'l1_ratio':l1_s}\n",
    "elas = ElasticNet()\n",
    "gcv = GridSearchCV(elas,param_grid=param,cv = kfold)\n",
    "gcv.fit(X,y)\n",
    "print(gcv.best_params_)\n",
    "print(gcv.best_score_)\n"
   ]
  },
  {
   "cell_type": "markdown",
   "id": "7f90bd44",
   "metadata": {},
   "source": [
    "## Salary"
   ]
  },
  {
   "cell_type": "code",
   "execution_count": 15,
   "id": "63f8d3aa",
   "metadata": {},
   "outputs": [
    {
     "data": {
      "text/html": [
       "<div>\n",
       "<style scoped>\n",
       "    .dataframe tbody tr th:only-of-type {\n",
       "        vertical-align: middle;\n",
       "    }\n",
       "\n",
       "    .dataframe tbody tr th {\n",
       "        vertical-align: top;\n",
       "    }\n",
       "\n",
       "    .dataframe thead th {\n",
       "        text-align: right;\n",
       "    }\n",
       "</style>\n",
       "<table border=\"1\" class=\"dataframe\">\n",
       "  <thead>\n",
       "    <tr style=\"text-align: right;\">\n",
       "      <th></th>\n",
       "      <th>rank</th>\n",
       "      <th>discipline</th>\n",
       "      <th>yrs.since.phd</th>\n",
       "      <th>yrs.service</th>\n",
       "      <th>sex</th>\n",
       "      <th>salary</th>\n",
       "    </tr>\n",
       "  </thead>\n",
       "  <tbody>\n",
       "    <tr>\n",
       "      <th>0</th>\n",
       "      <td>Prof</td>\n",
       "      <td>B</td>\n",
       "      <td>19</td>\n",
       "      <td>18</td>\n",
       "      <td>Male</td>\n",
       "      <td>139750</td>\n",
       "    </tr>\n",
       "    <tr>\n",
       "      <th>1</th>\n",
       "      <td>Prof</td>\n",
       "      <td>B</td>\n",
       "      <td>20</td>\n",
       "      <td>16</td>\n",
       "      <td>Male</td>\n",
       "      <td>173200</td>\n",
       "    </tr>\n",
       "    <tr>\n",
       "      <th>2</th>\n",
       "      <td>AsstProf</td>\n",
       "      <td>B</td>\n",
       "      <td>4</td>\n",
       "      <td>3</td>\n",
       "      <td>Male</td>\n",
       "      <td>79750</td>\n",
       "    </tr>\n",
       "    <tr>\n",
       "      <th>3</th>\n",
       "      <td>Prof</td>\n",
       "      <td>B</td>\n",
       "      <td>45</td>\n",
       "      <td>39</td>\n",
       "      <td>Male</td>\n",
       "      <td>115000</td>\n",
       "    </tr>\n",
       "    <tr>\n",
       "      <th>4</th>\n",
       "      <td>Prof</td>\n",
       "      <td>B</td>\n",
       "      <td>40</td>\n",
       "      <td>41</td>\n",
       "      <td>Male</td>\n",
       "      <td>141500</td>\n",
       "    </tr>\n",
       "    <tr>\n",
       "      <th>...</th>\n",
       "      <td>...</td>\n",
       "      <td>...</td>\n",
       "      <td>...</td>\n",
       "      <td>...</td>\n",
       "      <td>...</td>\n",
       "      <td>...</td>\n",
       "    </tr>\n",
       "    <tr>\n",
       "      <th>392</th>\n",
       "      <td>Prof</td>\n",
       "      <td>A</td>\n",
       "      <td>33</td>\n",
       "      <td>30</td>\n",
       "      <td>Male</td>\n",
       "      <td>103106</td>\n",
       "    </tr>\n",
       "    <tr>\n",
       "      <th>393</th>\n",
       "      <td>Prof</td>\n",
       "      <td>A</td>\n",
       "      <td>31</td>\n",
       "      <td>19</td>\n",
       "      <td>Male</td>\n",
       "      <td>150564</td>\n",
       "    </tr>\n",
       "    <tr>\n",
       "      <th>394</th>\n",
       "      <td>Prof</td>\n",
       "      <td>A</td>\n",
       "      <td>42</td>\n",
       "      <td>25</td>\n",
       "      <td>Male</td>\n",
       "      <td>101738</td>\n",
       "    </tr>\n",
       "    <tr>\n",
       "      <th>395</th>\n",
       "      <td>Prof</td>\n",
       "      <td>A</td>\n",
       "      <td>25</td>\n",
       "      <td>15</td>\n",
       "      <td>Male</td>\n",
       "      <td>95329</td>\n",
       "    </tr>\n",
       "    <tr>\n",
       "      <th>396</th>\n",
       "      <td>AsstProf</td>\n",
       "      <td>A</td>\n",
       "      <td>8</td>\n",
       "      <td>4</td>\n",
       "      <td>Male</td>\n",
       "      <td>81035</td>\n",
       "    </tr>\n",
       "  </tbody>\n",
       "</table>\n",
       "<p>397 rows × 6 columns</p>\n",
       "</div>"
      ],
      "text/plain": [
       "         rank discipline  yrs.since.phd  yrs.service   sex  salary\n",
       "0        Prof          B             19           18  Male  139750\n",
       "1        Prof          B             20           16  Male  173200\n",
       "2    AsstProf          B              4            3  Male   79750\n",
       "3        Prof          B             45           39  Male  115000\n",
       "4        Prof          B             40           41  Male  141500\n",
       "..        ...        ...            ...          ...   ...     ...\n",
       "392      Prof          A             33           30  Male  103106\n",
       "393      Prof          A             31           19  Male  150564\n",
       "394      Prof          A             42           25  Male  101738\n",
       "395      Prof          A             25           15  Male   95329\n",
       "396  AsstProf          A              8            4  Male   81035\n",
       "\n",
       "[397 rows x 6 columns]"
      ]
     },
     "execution_count": 15,
     "metadata": {},
     "output_type": "execute_result"
    }
   ],
   "source": [
    "sal = pd.read_csv(\"Salaries.csv\")\n",
    "sal"
   ]
  },
  {
   "cell_type": "code",
   "execution_count": 16,
   "id": "b1a37b0b",
   "metadata": {},
   "outputs": [],
   "source": [
    "dum_sal = pd.get_dummies(sal,drop_first=True)"
   ]
  },
  {
   "cell_type": "code",
   "execution_count": 18,
   "id": "58ca1f1f",
   "metadata": {},
   "outputs": [],
   "source": [
    "X = dum_sal.drop('salary',axis=1)\n",
    "y = dum_sal['salary']"
   ]
  },
  {
   "cell_type": "code",
   "execution_count": 26,
   "id": "71681289",
   "metadata": {},
   "outputs": [],
   "source": [
    "kfold = KFold(n_splits=5,shuffle=True,random_state=23)"
   ]
  },
  {
   "cell_type": "code",
   "execution_count": 30,
   "id": "d7542080",
   "metadata": {},
   "outputs": [
    {
     "name": "stdout",
     "output_type": "stream",
     "text": [
      "{'alpha': 0.001}\n",
      "0.4413504071837222\n"
     ]
    }
   ],
   "source": [
    "alphas = np.linspace(0.001,15,200)\n",
    "ridge = Ridge()\n",
    "param = {'alpha' : alphas}\n",
    "gcv = GridSearchCV(ridge,param_grid=param,cv = kfold)\n",
    "gcv.fit(X,y)\n",
    "print(gcv.best_params_)\n",
    "print(gcv.best_score_)"
   ]
  },
  {
   "cell_type": "code",
   "execution_count": 28,
   "id": "e41ac795",
   "metadata": {},
   "outputs": [
    {
     "name": "stdout",
     "output_type": "stream",
     "text": [
      "{'alpha': 0.001}\n",
      "0.44135043154768655\n"
     ]
    }
   ],
   "source": [
    "lasso = Lasso()\n",
    "param = {'alpha' : alphas}\n",
    "gcv = GridSearchCV(lasso,param_grid=param,cv = kfold)\n",
    "gcv.fit(X,y)\n",
    "print(gcv.best_params_)\n",
    "print(gcv.best_score_)"
   ]
  },
  {
   "cell_type": "code",
   "execution_count": 29,
   "id": "f77d3de3",
   "metadata": {},
   "outputs": [
    {
     "name": "stdout",
     "output_type": "stream",
     "text": [
      "{'alpha': 0.001}\n",
      "0.44134365690056254\n"
     ]
    }
   ],
   "source": [
    "alphas = np.linspace(0.001,12,20)\n",
    "l1_s = np.linspace(0,1,10)\n",
    "params = {'alpha':alphas,\n",
    "         'l1_ratio':l1_s}\n",
    "elas = ElasticNet()\n",
    "gcv = GridSearchCV(elas,param_grid=param,cv = kfold)\n",
    "gcv.fit(X,y)\n",
    "print(gcv.best_params_)\n",
    "print(gcv.best_score_)"
   ]
  },
  {
   "cell_type": "code",
   "execution_count": null,
   "id": "b18f472d",
   "metadata": {},
   "outputs": [],
   "source": []
  }
 ],
 "metadata": {
  "kernelspec": {
   "display_name": "Python 3 (ipykernel)",
   "language": "python",
   "name": "python3"
  },
  "language_info": {
   "codemirror_mode": {
    "name": "ipython",
    "version": 3
   },
   "file_extension": ".py",
   "mimetype": "text/x-python",
   "name": "python",
   "nbconvert_exporter": "python",
   "pygments_lexer": "ipython3",
   "version": "3.9.18"
  }
 },
 "nbformat": 4,
 "nbformat_minor": 5
}
