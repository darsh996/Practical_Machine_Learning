{
 "cells": [
  {
   "cell_type": "markdown",
   "id": "6a206d6f",
   "metadata": {},
   "source": [
    "The principal components allow you to represent the data in a lower-dimensional space, capturing the most important information. This reduction in dimensionality is useful for visualization, noise reduction, and speeding up machine learning algorithms, among other applications."
   ]
  },
  {
   "cell_type": "code",
   "execution_count": 2,
   "id": "a2e13734",
   "metadata": {},
   "outputs": [],
   "source": [
    "import numpy as np\n",
    "import pandas as pd\n",
    "from sklearn.preprocessing import StandardScaler\n",
    "from sklearn.decomposition import PCA"
   ]
  },
  {
   "cell_type": "code",
   "execution_count": 10,
   "id": "c97cd323",
   "metadata": {},
   "outputs": [],
   "source": [
    "hos = pd.read_csv(\"/Users/darshmac/Documents/cdac/For DBDA/Advance Analytics/Datasets/Housing.csv\")\n",
    "hs = hos.drop('price',axis=1)\n",
    "hs_dum = pd.get_dummies(hs,drop_first=True)"
   ]
  },
  {
   "cell_type": "code",
   "execution_count": 11,
   "id": "8459d9b5",
   "metadata": {},
   "outputs": [],
   "source": [
    "scaler = StandardScaler()\n",
    "m_scaled = scaler.fit_transform(hs_dum)"
   ]
  },
  {
   "cell_type": "code",
   "execution_count": 12,
   "id": "635480d7",
   "metadata": {},
   "outputs": [],
   "source": [
    "prcom =PCA()"
   ]
  },
  {
   "cell_type": "code",
   "execution_count": 13,
   "id": "9324d05a",
   "metadata": {},
   "outputs": [],
   "source": [
    "comps = prcom.fit_transform(m_scaled)"
   ]
  },
  {
   "cell_type": "code",
   "execution_count": 14,
   "id": "f833a656",
   "metadata": {},
   "outputs": [
    {
     "name": "stdout",
     "output_type": "stream",
     "text": [
      "(546, 11)\n",
      "(546, 11)\n"
     ]
    }
   ],
   "source": [
    "print(hs_dum.shape)\n",
    "print(hs_dum.shape)"
   ]
  },
  {
   "cell_type": "code",
   "execution_count": 16,
   "id": "3aba2020",
   "metadata": {},
   "outputs": [],
   "source": [
    "df_comps = pd.DataFrame(comps,\n",
    "                       columns=['PC1','PC2',\n",
    "                               'PC3','PC4','PC5','PC6','PC7','PC8','PC9','PC10','PC11'],\n",
    "                       index = hs_dum.index)"
   ]
  },
  {
   "cell_type": "code",
   "execution_count": 17,
   "id": "3d160052",
   "metadata": {},
   "outputs": [
    {
     "name": "stdout",
     "output_type": "stream",
     "text": [
      "PC1     2.350424\n",
      "PC2     1.532798\n",
      "PC3     1.278221\n",
      "PC4     1.130282\n",
      "PC5     0.890446\n",
      "PC6     0.828118\n",
      "PC7     0.739999\n",
      "PC8     0.652250\n",
      "PC9     0.627836\n",
      "PC10    0.574564\n",
      "PC11    0.415247\n",
      "dtype: float64\n",
      "[2.35042371 1.5327983  1.27822085 1.13028189 0.8904461  0.82811792\n",
      " 0.7399986  0.65224971 0.62783555 0.57456409 0.41524677]\n"
     ]
    }
   ],
   "source": [
    "print(df_comps.var())\n",
    "print(prcom.explained_variance_)"
   ]
  },
  {
   "cell_type": "code",
   "execution_count": 18,
   "id": "062f45b1",
   "metadata": {},
   "outputs": [
    {
     "name": "stdout",
     "output_type": "stream",
     "text": [
      "[0.21328354 0.13909009 0.11598907 0.10256471 0.08080139 0.07514557\n",
      " 0.06714939 0.05918683 0.05697142 0.05213743 0.03768057]\n",
      "[21.32835367 13.9090089  11.59890718 10.25647069  8.0801386   7.51455654\n",
      "  6.71493898  5.91868287  5.69714244  5.21374338  3.76805676]\n"
     ]
    }
   ],
   "source": [
    "tot_var = np.sum(prcom.explained_variance_)\n",
    "prop_var = np.array(prcom.explained_variance_)/tot_var\n",
    "print(prop_var)\n",
    "per_var = prop_var*100\n",
    "print(per_var)"
   ]
  },
  {
   "cell_type": "code",
   "execution_count": 19,
   "id": "adeb76a9",
   "metadata": {},
   "outputs": [
    {
     "name": "stdout",
     "output_type": "stream",
     "text": [
      "[2.35042371 1.5327983  1.27822085 1.13028189 0.8904461  0.82811792\n",
      " 0.7399986  0.65224971 0.62783555 0.57456409 0.41524677]\n"
     ]
    }
   ],
   "source": [
    "print(prcom.explained_variance_)"
   ]
  },
  {
   "cell_type": "code",
   "execution_count": null,
   "id": "508e596b",
   "metadata": {},
   "outputs": [],
   "source": []
  }
 ],
 "metadata": {
  "kernelspec": {
   "display_name": "Python 3 (ipykernel)",
   "language": "python",
   "name": "python3"
  },
  "language_info": {
   "codemirror_mode": {
    "name": "ipython",
    "version": 3
   },
   "file_extension": ".py",
   "mimetype": "text/x-python",
   "name": "python",
   "nbconvert_exporter": "python",
   "pygments_lexer": "ipython3",
   "version": "3.9.18"
  }
 },
 "nbformat": 4,
 "nbformat_minor": 5
}
