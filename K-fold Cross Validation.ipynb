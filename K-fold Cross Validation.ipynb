{
 "cells": [
  {
   "cell_type": "code",
   "execution_count": 8,
   "id": "49547644",
   "metadata": {},
   "outputs": [],
   "source": [
    "import pandas as pd \n",
    "import numpy as np \n",
    "from sklearn.linear_model import LinearRegression \n",
    "import matplotlib.pyplot as plt \n",
    "from sklearn.model_selection import train_test_split\n",
    "from sklearn.metrics import mean_squared_error as mse\n",
    "from sklearn.metrics import mean_absolute_error as mae\n",
    "from sklearn.metrics import r2_score \n",
    "from sklearn.linear_model import Lasso\n",
    "from sklearn.linear_model import ElasticNet\n",
    "from sklearn.model_selection import KFold\n",
    "from sklearn.model_selection import cross_val_score\n",
    "import os\n",
    "os.chdir(\"/Users/darshmac/Documents/cdac/For DBDA/Advance Analytics/Datasets\")"
   ]
  },
  {
   "cell_type": "code",
   "execution_count": 2,
   "id": "6571523b",
   "metadata": {},
   "outputs": [
    {
     "data": {
      "text/html": [
       "<div>\n",
       "<style scoped>\n",
       "    .dataframe tbody tr th:only-of-type {\n",
       "        vertical-align: middle;\n",
       "    }\n",
       "\n",
       "    .dataframe tbody tr th {\n",
       "        vertical-align: top;\n",
       "    }\n",
       "\n",
       "    .dataframe thead th {\n",
       "        text-align: right;\n",
       "    }\n",
       "</style>\n",
       "<table border=\"1\" class=\"dataframe\">\n",
       "  <thead>\n",
       "    <tr style=\"text-align: right;\">\n",
       "      <th></th>\n",
       "      <th>crim</th>\n",
       "      <th>zn</th>\n",
       "      <th>indus</th>\n",
       "      <th>chas</th>\n",
       "      <th>nox</th>\n",
       "      <th>rm</th>\n",
       "      <th>age</th>\n",
       "      <th>dis</th>\n",
       "      <th>rad</th>\n",
       "      <th>tax</th>\n",
       "      <th>ptratio</th>\n",
       "      <th>black</th>\n",
       "      <th>lstat</th>\n",
       "      <th>medv</th>\n",
       "    </tr>\n",
       "  </thead>\n",
       "  <tbody>\n",
       "    <tr>\n",
       "      <th>0</th>\n",
       "      <td>0.00632</td>\n",
       "      <td>18.0</td>\n",
       "      <td>2.31</td>\n",
       "      <td>0</td>\n",
       "      <td>0.538</td>\n",
       "      <td>6.575</td>\n",
       "      <td>65.2</td>\n",
       "      <td>4.0900</td>\n",
       "      <td>1</td>\n",
       "      <td>296</td>\n",
       "      <td>15.3</td>\n",
       "      <td>396.90</td>\n",
       "      <td>4.98</td>\n",
       "      <td>24.0</td>\n",
       "    </tr>\n",
       "    <tr>\n",
       "      <th>1</th>\n",
       "      <td>0.02731</td>\n",
       "      <td>0.0</td>\n",
       "      <td>7.07</td>\n",
       "      <td>0</td>\n",
       "      <td>0.469</td>\n",
       "      <td>6.421</td>\n",
       "      <td>78.9</td>\n",
       "      <td>4.9671</td>\n",
       "      <td>2</td>\n",
       "      <td>242</td>\n",
       "      <td>17.8</td>\n",
       "      <td>396.90</td>\n",
       "      <td>9.14</td>\n",
       "      <td>21.6</td>\n",
       "    </tr>\n",
       "    <tr>\n",
       "      <th>2</th>\n",
       "      <td>0.02729</td>\n",
       "      <td>0.0</td>\n",
       "      <td>7.07</td>\n",
       "      <td>0</td>\n",
       "      <td>0.469</td>\n",
       "      <td>7.185</td>\n",
       "      <td>61.1</td>\n",
       "      <td>4.9671</td>\n",
       "      <td>2</td>\n",
       "      <td>242</td>\n",
       "      <td>17.8</td>\n",
       "      <td>392.83</td>\n",
       "      <td>4.03</td>\n",
       "      <td>34.7</td>\n",
       "    </tr>\n",
       "    <tr>\n",
       "      <th>3</th>\n",
       "      <td>0.03237</td>\n",
       "      <td>0.0</td>\n",
       "      <td>2.18</td>\n",
       "      <td>0</td>\n",
       "      <td>0.458</td>\n",
       "      <td>6.998</td>\n",
       "      <td>45.8</td>\n",
       "      <td>6.0622</td>\n",
       "      <td>3</td>\n",
       "      <td>222</td>\n",
       "      <td>18.7</td>\n",
       "      <td>394.63</td>\n",
       "      <td>2.94</td>\n",
       "      <td>33.4</td>\n",
       "    </tr>\n",
       "    <tr>\n",
       "      <th>4</th>\n",
       "      <td>0.06905</td>\n",
       "      <td>0.0</td>\n",
       "      <td>2.18</td>\n",
       "      <td>0</td>\n",
       "      <td>0.458</td>\n",
       "      <td>7.147</td>\n",
       "      <td>54.2</td>\n",
       "      <td>6.0622</td>\n",
       "      <td>3</td>\n",
       "      <td>222</td>\n",
       "      <td>18.7</td>\n",
       "      <td>396.90</td>\n",
       "      <td>5.33</td>\n",
       "      <td>36.2</td>\n",
       "    </tr>\n",
       "    <tr>\n",
       "      <th>...</th>\n",
       "      <td>...</td>\n",
       "      <td>...</td>\n",
       "      <td>...</td>\n",
       "      <td>...</td>\n",
       "      <td>...</td>\n",
       "      <td>...</td>\n",
       "      <td>...</td>\n",
       "      <td>...</td>\n",
       "      <td>...</td>\n",
       "      <td>...</td>\n",
       "      <td>...</td>\n",
       "      <td>...</td>\n",
       "      <td>...</td>\n",
       "      <td>...</td>\n",
       "    </tr>\n",
       "    <tr>\n",
       "      <th>501</th>\n",
       "      <td>0.06263</td>\n",
       "      <td>0.0</td>\n",
       "      <td>11.93</td>\n",
       "      <td>0</td>\n",
       "      <td>0.573</td>\n",
       "      <td>6.593</td>\n",
       "      <td>69.1</td>\n",
       "      <td>2.4786</td>\n",
       "      <td>1</td>\n",
       "      <td>273</td>\n",
       "      <td>21.0</td>\n",
       "      <td>391.99</td>\n",
       "      <td>9.67</td>\n",
       "      <td>22.4</td>\n",
       "    </tr>\n",
       "    <tr>\n",
       "      <th>502</th>\n",
       "      <td>0.04527</td>\n",
       "      <td>0.0</td>\n",
       "      <td>11.93</td>\n",
       "      <td>0</td>\n",
       "      <td>0.573</td>\n",
       "      <td>6.120</td>\n",
       "      <td>76.7</td>\n",
       "      <td>2.2875</td>\n",
       "      <td>1</td>\n",
       "      <td>273</td>\n",
       "      <td>21.0</td>\n",
       "      <td>396.90</td>\n",
       "      <td>9.08</td>\n",
       "      <td>20.6</td>\n",
       "    </tr>\n",
       "    <tr>\n",
       "      <th>503</th>\n",
       "      <td>0.06076</td>\n",
       "      <td>0.0</td>\n",
       "      <td>11.93</td>\n",
       "      <td>0</td>\n",
       "      <td>0.573</td>\n",
       "      <td>6.976</td>\n",
       "      <td>91.0</td>\n",
       "      <td>2.1675</td>\n",
       "      <td>1</td>\n",
       "      <td>273</td>\n",
       "      <td>21.0</td>\n",
       "      <td>396.90</td>\n",
       "      <td>5.64</td>\n",
       "      <td>23.9</td>\n",
       "    </tr>\n",
       "    <tr>\n",
       "      <th>504</th>\n",
       "      <td>0.10959</td>\n",
       "      <td>0.0</td>\n",
       "      <td>11.93</td>\n",
       "      <td>0</td>\n",
       "      <td>0.573</td>\n",
       "      <td>6.794</td>\n",
       "      <td>89.3</td>\n",
       "      <td>2.3889</td>\n",
       "      <td>1</td>\n",
       "      <td>273</td>\n",
       "      <td>21.0</td>\n",
       "      <td>393.45</td>\n",
       "      <td>6.48</td>\n",
       "      <td>22.0</td>\n",
       "    </tr>\n",
       "    <tr>\n",
       "      <th>505</th>\n",
       "      <td>0.04741</td>\n",
       "      <td>0.0</td>\n",
       "      <td>11.93</td>\n",
       "      <td>0</td>\n",
       "      <td>0.573</td>\n",
       "      <td>6.030</td>\n",
       "      <td>80.8</td>\n",
       "      <td>2.5050</td>\n",
       "      <td>1</td>\n",
       "      <td>273</td>\n",
       "      <td>21.0</td>\n",
       "      <td>396.90</td>\n",
       "      <td>7.88</td>\n",
       "      <td>11.9</td>\n",
       "    </tr>\n",
       "  </tbody>\n",
       "</table>\n",
       "<p>506 rows × 14 columns</p>\n",
       "</div>"
      ],
      "text/plain": [
       "        crim    zn  indus  chas    nox     rm   age     dis  rad  tax  \\\n",
       "0    0.00632  18.0   2.31     0  0.538  6.575  65.2  4.0900    1  296   \n",
       "1    0.02731   0.0   7.07     0  0.469  6.421  78.9  4.9671    2  242   \n",
       "2    0.02729   0.0   7.07     0  0.469  7.185  61.1  4.9671    2  242   \n",
       "3    0.03237   0.0   2.18     0  0.458  6.998  45.8  6.0622    3  222   \n",
       "4    0.06905   0.0   2.18     0  0.458  7.147  54.2  6.0622    3  222   \n",
       "..       ...   ...    ...   ...    ...    ...   ...     ...  ...  ...   \n",
       "501  0.06263   0.0  11.93     0  0.573  6.593  69.1  2.4786    1  273   \n",
       "502  0.04527   0.0  11.93     0  0.573  6.120  76.7  2.2875    1  273   \n",
       "503  0.06076   0.0  11.93     0  0.573  6.976  91.0  2.1675    1  273   \n",
       "504  0.10959   0.0  11.93     0  0.573  6.794  89.3  2.3889    1  273   \n",
       "505  0.04741   0.0  11.93     0  0.573  6.030  80.8  2.5050    1  273   \n",
       "\n",
       "     ptratio   black  lstat  medv  \n",
       "0       15.3  396.90   4.98  24.0  \n",
       "1       17.8  396.90   9.14  21.6  \n",
       "2       17.8  392.83   4.03  34.7  \n",
       "3       18.7  394.63   2.94  33.4  \n",
       "4       18.7  396.90   5.33  36.2  \n",
       "..       ...     ...    ...   ...  \n",
       "501     21.0  391.99   9.67  22.4  \n",
       "502     21.0  396.90   9.08  20.6  \n",
       "503     21.0  396.90   5.64  23.9  \n",
       "504     21.0  393.45   6.48  22.0  \n",
       "505     21.0  396.90   7.88  11.9  \n",
       "\n",
       "[506 rows x 14 columns]"
      ]
     },
     "execution_count": 2,
     "metadata": {},
     "output_type": "execute_result"
    }
   ],
   "source": [
    "boston = pd.read_csv(\"Boston.csv\")\n",
    "boston"
   ]
  },
  {
   "cell_type": "code",
   "execution_count": 3,
   "id": "c3a898ea",
   "metadata": {},
   "outputs": [],
   "source": [
    "X = boston.drop('medv',axis=1)\n",
    "y = boston['medv']"
   ]
  },
  {
   "cell_type": "code",
   "execution_count": 6,
   "id": "0f9775d8",
   "metadata": {},
   "outputs": [],
   "source": [
    "kfold = KFold(n_splits=5,shuffle=True,random_state=23)"
   ]
  },
  {
   "cell_type": "code",
   "execution_count": 7,
   "id": "7c22fba2",
   "metadata": {},
   "outputs": [],
   "source": [
    "lr = LinearRegression()"
   ]
  },
  {
   "cell_type": "code",
   "execution_count": 9,
   "id": "b3c62276",
   "metadata": {},
   "outputs": [],
   "source": [
    "result = cross_val_score(lr,X,y,cv=kfold)"
   ]
  },
  {
   "cell_type": "code",
   "execution_count": 11,
   "id": "8d352b2d",
   "metadata": {},
   "outputs": [
    {
     "name": "stdout",
     "output_type": "stream",
     "text": [
      "R2: 0.7185747399235821\n"
     ]
    }
   ],
   "source": [
    "print(\"R2:\",np.mean(result))#mean of result is important"
   ]
  },
  {
   "cell_type": "code",
   "execution_count": 18,
   "id": "7f87464c",
   "metadata": {},
   "outputs": [
    {
     "name": "stdout",
     "output_type": "stream",
     "text": [
      "Alpha= 0.001 R2 = [0.74514306 0.69363489 0.73264725 0.68377809 0.73767041]\n",
      "Alpha= 0.790421052631579 R2 = [0.74514306 0.69363489 0.73264725 0.68377809 0.73767041]\n",
      "Alpha= 1.579842105263158 R2 = [0.74514306 0.69363489 0.73264725 0.68377809 0.73767041]\n",
      "Alpha= 2.369263157894737 R2 = [0.74514306 0.69363489 0.73264725 0.68377809 0.73767041]\n",
      "Alpha= 3.158684210526316 R2 = [0.74514306 0.69363489 0.73264725 0.68377809 0.73767041]\n",
      "Alpha= 3.948105263157895 R2 = [0.74514306 0.69363489 0.73264725 0.68377809 0.73767041]\n",
      "Alpha= 4.7375263157894745 R2 = [0.74514306 0.69363489 0.73264725 0.68377809 0.73767041]\n",
      "Alpha= 5.5269473684210535 R2 = [0.74514306 0.69363489 0.73264725 0.68377809 0.73767041]\n",
      "Alpha= 6.3163684210526325 R2 = [0.74514306 0.69363489 0.73264725 0.68377809 0.73767041]\n",
      "Alpha= 7.1057894736842115 R2 = [0.74514306 0.69363489 0.73264725 0.68377809 0.73767041]\n",
      "Alpha= 7.895210526315791 R2 = [0.74514306 0.69363489 0.73264725 0.68377809 0.73767041]\n",
      "Alpha= 8.68463157894737 R2 = [0.74514306 0.69363489 0.73264725 0.68377809 0.73767041]\n",
      "Alpha= 9.474052631578948 R2 = [0.74514306 0.69363489 0.73264725 0.68377809 0.73767041]\n",
      "Alpha= 10.263473684210526 R2 = [0.74514306 0.69363489 0.73264725 0.68377809 0.73767041]\n",
      "Alpha= 11.052894736842106 R2 = [0.74514306 0.69363489 0.73264725 0.68377809 0.73767041]\n",
      "Alpha= 11.842315789473686 R2 = [0.74514306 0.69363489 0.73264725 0.68377809 0.73767041]\n",
      "Alpha= 12.631736842105264 R2 = [0.74514306 0.69363489 0.73264725 0.68377809 0.73767041]\n",
      "Alpha= 13.421157894736842 R2 = [0.74514306 0.69363489 0.73264725 0.68377809 0.73767041]\n",
      "Alpha= 14.210578947368422 R2 = [0.74514306 0.69363489 0.73264725 0.68377809 0.73767041]\n",
      "Alpha= 15.0 R2 = [0.74514306 0.69363489 0.73264725 0.68377809 0.73767041]\n"
     ]
    }
   ],
   "source": [
    "alphas = np.linspace(0.001,15,20)\n",
    "scores=[]\n",
    "for v in alphas:\n",
    "    scr = cross_val_score(lr,X,y,cv=kfold)\n",
    "    scores.append(np.mean(scr))\n",
    "    print(\"Alpha=\",v,\"R2 =\",scr)"
   ]
  },
  {
   "cell_type": "code",
   "execution_count": 19,
   "id": "29dbc699",
   "metadata": {},
   "outputs": [
    {
     "name": "stdout",
     "output_type": "stream",
     "text": [
      "Best Alpha: 0.001\n",
      "Best Scores: 0.7185747399235821\n"
     ]
    }
   ],
   "source": [
    "i_max = np.argmax(scores)\n",
    "print(\"Best Alpha:\",alphas[i_max])\n",
    "print(\"Best Scores:\",scores[i_max])"
   ]
  },
  {
   "cell_type": "code",
   "execution_count": 20,
   "id": "8960ac59",
   "metadata": {},
   "outputs": [
    {
     "data": {
      "image/png": "[encoded data removed]",
      "text/plain": [
       "<Figure size 640x480 with 1 Axes>"
      ]
     },
     "metadata": {},
     "output_type": "display_data"
    }
   ],
   "source": [
    "plt.plot(alphas,scores)\n",
    "plt.scatter(alphas,scores,c='red')\n",
    "plt.xlabel('Alphas')\n",
    "plt.ylabel('Scores')\n",
    "plt.show()"
   ]
  },
  {
   "cell_type": "code",
   "execution_count": 21,
   "id": "c6c2fb22",
   "metadata": {},
   "outputs": [
    {
     "name": "stdout",
     "output_type": "stream",
     "text": [
      "Alpha= 0.001 R2 = [0.74545118 0.69331022 0.73295661 0.68354487 0.73764282]\n",
      "Alpha= 0.790421052631579 R2 = [0.69303539 0.68375648 0.69973486 0.66081088 0.66734739]\n",
      "Alpha= 1.579842105263158 R2 = [0.61919529 0.64343795 0.64740602 0.63328788 0.60520612]\n",
      "Alpha= 2.369263157894737 R2 = [0.57925956 0.61562576 0.61705816 0.6077091  0.58067967]\n",
      "Alpha= 3.158684210526316 R2 = [0.55019968 0.59427212 0.59074084 0.58803499 0.56554245]\n",
      "Alpha= 3.948105263157895 R2 = [0.53030648 0.56720186 0.567118   0.56405155 0.54969516]\n",
      "Alpha= 4.7375263157894745 R2 = [0.52505087 0.56492267 0.56120477 0.5528173  0.55158488]\n",
      "Alpha= 5.5269473684210535 R2 = [0.51904637 0.56190807 0.55469626 0.54408651 0.55260358]\n",
      "Alpha= 6.3163684210526325 R2 = [0.51228879 0.5581569  0.54760394 0.53461171 0.55274371]\n",
      "Alpha= 7.1057894736842115 R2 = [0.50479073 0.55367377 0.53992825 0.52439382 0.55200454]\n",
      "Alpha= 7.895210526315791 R2 = [0.49653975 0.54845889 0.53166916 0.51343285 0.55038605]\n",
      "Alpha= 8.68463157894737 R2 = [0.49123581 0.54251357 0.52496183 0.50172907 0.5478883 ]\n",
      "Alpha= 9.474052631578948 R2 = [0.4872597  0.53909878 0.52028122 0.49059718 0.54451127]\n",
      "Alpha= 10.263473684210526 R2 = [0.48288167 0.53717479 0.51521838 0.48165765 0.54025904]\n",
      "Alpha= 11.052894736842106 R2 = [0.47810344 0.53481238 0.50977209 0.47228141 0.53512296]\n",
      "Alpha= 11.842315789473686 R2 = [0.47292503 0.53200934 0.50394232 0.46247943 0.52930805]\n",
      "Alpha= 12.631736842105264 R2 = [0.46734645 0.52876567 0.4977291  0.45225222 0.52322054]\n",
      "Alpha= 13.421157894736842 R2 = [0.46136773 0.52508138 0.49113242 0.4415998  0.51672193]\n",
      "Alpha= 14.210578947368422 R2 = [0.45498884 0.52095645 0.48415227 0.43052216 0.50980978]\n",
      "Alpha= 15.0 R2 = [0.44820979 0.5163909  0.47678866 0.41901932 0.50248408]\n"
     ]
    }
   ],
   "source": [
    "alphas = np.linspace(0.001,15,20)\n",
    "scores=[]\n",
    "for v in alphas:\n",
    "    lasso = Lasso(alpha=v)\n",
    "    scr = cross_val_score(lasso,X,y,cv=kfold)\n",
    "    scores.append(np.mean(scr))\n",
    "    print(\"Alpha=\",v,\"R2 =\",scr)"
   ]
  },
  {
   "cell_type": "code",
   "execution_count": 22,
   "id": "11a8d55d",
   "metadata": {},
   "outputs": [
    {
     "data": {
      "image/png": "[encoded data removed]",
      "text/plain": [
       "<Figure size 640x480 with 1 Axes>"
      ]
     },
     "metadata": {},
     "output_type": "display_data"
    }
   ],
   "source": [
    "plt.plot(alphas,scores)\n",
    "plt.scatter(alphas,scores,c='red')\n",
    "plt.xlabel('Alphas')\n",
    "plt.ylabel('Scores')\n",
    "plt.show()"
   ]
  },
  {
   "cell_type": "code",
   "execution_count": 26,
   "id": "00676076",
   "metadata": {},
   "outputs": [
    {
     "name": "stdout",
     "output_type": "stream",
     "text": [
      "Alpha= 0.001 R2 = 0.7183125085042489\n",
      "Alpha= 0.001 R2 = 0.718475104009807\n",
      "Alpha= 0.001 R2 = 0.7186442167639503\n",
      "Alpha= 0.1 R2 = 0.7066051462899191\n",
      "Alpha= 0.1 R2 = 0.7067805415626843\n",
      "Alpha= 0.1 R2 = 0.7062913958198893\n",
      "Alpha= 0.5 R2 = 0.6882659995387922\n",
      "Alpha= 0.5 R2 = 0.6885697307607141\n",
      "Alpha= 0.5 R2 = 0.692542155719803\n",
      "Alpha= 1 R2 = 0.6748313076043034\n",
      "Alpha= 1 R2 = 0.6730475774515327\n",
      "Alpha= 1 R2 = 0.6692606160839133\n",
      "Alpha= 2 R2 = 0.6582271747908262\n",
      "Alpha= 2 R2 = 0.6516445940476384\n",
      "Alpha= 2 R2 = 0.6265289567532337\n"
     ]
    }
   ],
   "source": [
    "alphas = [0.001,0.1,0.5,1,2]\n",
    "l1_s = [0.001, 0.25,0.75]\n",
    "params = []\n",
    "scores=[]\n",
    "for v in alphas:\n",
    "    for l1 in l1_s:\n",
    "        elas = ElasticNet(alpha=v,l1_ratio=l1)\n",
    "        scr = cross_val_score(elas,X,y,cv=kfold)\n",
    "        scores.append(np.mean(scr))\n",
    "        params.append({'alpha':v,'l1_ratio':l1})\n",
    "        print(\"Alpha=\",v,\"R2 =\",np.mean(scr))"
   ]
  },
  {
   "cell_type": "code",
   "execution_count": 27,
   "id": "cb605b6f",
   "metadata": {},
   "outputs": [
    {
     "name": "stdout",
     "output_type": "stream",
     "text": [
      "Best Alpha: 0.5\n",
      "Best Scores: 0.7186442167639503\n"
     ]
    }
   ],
   "source": [
    "i_max = np.argmax(scores)\n",
    "print(\"Best Alpha:\",alphas[i_max])\n",
    "print(\"Best Scores:\",scores[i_max])"
   ]
  },
  {
   "cell_type": "code",
   "execution_count": 32,
   "id": "8c2092de",
   "metadata": {},
   "outputs": [
    {
     "name": "stdout",
     "output_type": "stream",
     "text": [
      "15\n",
      "15\n"
     ]
    }
   ],
   "source": [
    "param_values=[d['alpha'] for d in params]\n",
    "print(len(param_values))\n",
    "print(len(scores))"
   ]
  },
  {
   "cell_type": "code",
   "execution_count": 33,
   "id": "2f4a89f2",
   "metadata": {},
   "outputs": [
    {
     "data": {
      "image/png": "[encoded data removed]",
      "text/plain": [
       "<Figure size 640x480 with 1 Axes>"
      ]
     },
     "metadata": {},
     "output_type": "display_data"
    }
   ],
   "source": [
    "plt.plot(param_values,scores)\n",
    "plt.scatter(param_values,scores,c='red')\n",
    "plt.xlabel('Alphas')\n",
    "plt.ylabel('Scores')\n",
    "plt.show()"
   ]
  },
  {
   "cell_type": "code",
   "execution_count": null,
   "id": "33db8f1a",
   "metadata": {},
   "outputs": [],
   "source": []
  }
 ],
 "metadata": {
  "kernelspec": {
   "display_name": "Python 3 (ipykernel)",
   "language": "python",
   "name": "python3"
  },
  "language_info": {
   "codemirror_mode": {
    "name": "ipython",
    "version": 3
   },
   "file_extension": ".py",
   "mimetype": "text/x-python",
   "name": "python",
   "nbconvert_exporter": "python",
   "pygments_lexer": "ipython3",
   "version": "3.9.18"
  }
 },
 "nbformat": 4,
 "nbformat_minor": 5
}
