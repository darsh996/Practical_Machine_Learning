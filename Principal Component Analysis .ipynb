{
 "cells": [
  {
   "cell_type": "markdown",
   "id": "00cd3c10",
   "metadata": {},
   "source": [
    "The principal components allow you to represent the data in a lower-dimensional space, capturing the most important information. This reduction in dimensionality is useful for visualization, noise reduction, and speeding up machine learning algorithms, among other applications."
   ]
  },
  {
   "cell_type": "code",
   "execution_count": 3,
   "id": "a9fb8086",
   "metadata": {},
   "outputs": [],
   "source": [
    "import numpy as np\n",
    "import pandas as pd\n",
    "from sklearn.preprocessing import StandardScaler\n",
    "from sklearn.decomposition import PCA"
   ]
  },
  {
   "cell_type": "code",
   "execution_count": 7,
   "id": "52345451",
   "metadata": {},
   "outputs": [
    {
     "name": "stdout",
     "output_type": "stream",
     "text": [
      "            water  protein   fat  lactose   ash\n",
      "Animal                                         \n",
      "HORSE        90.1      2.6   1.0      6.9  0.35\n",
      "ORANGUTAN    88.5      1.4   3.5      6.0  0.24\n",
      "MONKEY       88.4      2.2   2.7      6.4  0.18\n",
      "DONKEY       90.3      1.7   1.4      6.2  0.40\n",
      "HIPPO        90.4      0.6   4.5      4.4  0.10\n",
      "CAMEL        87.7      3.5   3.4      4.8  0.71\n",
      "BISON        86.9      4.8   1.7      5.7  0.90\n",
      "BUFFALO      82.1      5.9   7.9      4.7  0.78\n",
      "GUINEA PIG   81.9      7.4   7.2      2.7  0.85\n",
      "CAT          81.6     10.1   6.3      4.4  0.75\n",
      "FOX          81.6      6.6   5.9      4.9  0.93\n",
      "LLAMA        86.5      3.9   3.2      5.6  0.80\n",
      "MULE         90.0      2.0   1.8      5.5  0.47\n",
      "PIG          82.8      7.1   5.1      3.7  1.10\n",
      "ZEBRA        86.2      3.0   4.8      5.3  0.70\n",
      "SHEEP        82.0      5.6   6.4      4.7  0.91\n",
      "DOG          76.3      9.3   9.5      3.0  1.20\n",
      "ELEPHANT     70.7      3.6  17.6      5.6  0.63\n",
      "RABBIT       71.3     12.3  13.1      1.9  2.30\n",
      "RAT          72.5      9.2  12.6      3.3  1.40\n",
      "DEER         65.9     10.4  19.7      2.6  1.40\n",
      "REINDEER     64.8     10.7  20.3      2.5  1.40\n",
      "WHALE        64.8     11.1  21.2      1.6  1.70\n",
      "SEAL         46.4      9.7  42.0      0.0  0.85\n",
      "DOLPHIN      44.9     10.6  34.9      0.9  0.53\n"
     ]
    }
   ],
   "source": [
    "milk = pd.read_csv(\"/Users/darshmac/Documents/cdac/For DBDA/Advance Analytics/Datasets/milk.csv\",index_col=0)\n",
    "print(milk)\n",
    "scaler = StandardScaler()\n",
    "m_scaled = scaler.fit_transform(milk)"
   ]
  },
  {
   "cell_type": "code",
   "execution_count": 8,
   "id": "943b29fa",
   "metadata": {},
   "outputs": [],
   "source": [
    "prcom =PCA()"
   ]
  },
  {
   "cell_type": "code",
   "execution_count": 10,
   "id": "221b5e73",
   "metadata": {},
   "outputs": [],
   "source": [
    "comps = prcom.fit_transform(m_scaled)"
   ]
  },
  {
   "cell_type": "code",
   "execution_count": 11,
   "id": "9910a413",
   "metadata": {},
   "outputs": [
    {
     "name": "stdout",
     "output_type": "stream",
     "text": [
      "(25, 5)\n",
      "(25, 5)\n"
     ]
    }
   ],
   "source": [
    "print(milk.shape)\n",
    "print(comps.shape)"
   ]
  },
  {
   "cell_type": "code",
   "execution_count": 12,
   "id": "126e16fa",
   "metadata": {},
   "outputs": [],
   "source": [
    "df_comps = pd.DataFrame(comps,\n",
    "                       columns=['PC1','PC2',\n",
    "                               'PC3','PC4','PC5'],\n",
    "                       index = milk.index)"
   ]
  },
  {
   "cell_type": "code",
   "execution_count": 14,
   "id": "81e054dd",
   "metadata": {},
   "outputs": [
    {
     "name": "stdout",
     "output_type": "stream",
     "text": [
      "PC1    4.040412\n",
      "PC2    0.924372\n",
      "PC3    0.134291\n",
      "PC4    0.102689\n",
      "PC5    0.006570\n",
      "dtype: float64\n",
      "[4.0404117  0.92437238 0.13429088 0.1026886  0.00656977]\n"
     ]
    }
   ],
   "source": [
    "print(df_comps.var())\n",
    "print(prcom.explained_variance_)"
   ]
  },
  {
   "cell_type": "code",
   "execution_count": 15,
   "id": "3118e138",
   "metadata": {},
   "outputs": [
    {
     "name": "stdout",
     "output_type": "stream",
     "text": [
      "[0.77575905 0.1774795  0.02578385 0.01971621 0.0012614 ]\n",
      "[77.57590469 17.74794969  2.57838496  1.97162103  0.12613963]\n"
     ]
    }
   ],
   "source": [
    "tot_var = np.sum(prcom.explained_variance_)\n",
    "prop_var = np.array(prcom.explained_variance_)/tot_var\n",
    "print(prop_var)\n",
    "per_var = prop_var*100\n",
    "print(per_var)"
   ]
  },
  {
   "cell_type": "code",
   "execution_count": 17,
   "id": "82b7b478",
   "metadata": {},
   "outputs": [
    {
     "name": "stdout",
     "output_type": "stream",
     "text": [
      "[4.0404117  0.92437238 0.13429088 0.1026886  0.00656977]\n"
     ]
    }
   ],
   "source": [
    "print(prcom.explained_variance_)"
   ]
  },
  {
   "cell_type": "code",
   "execution_count": null,
   "id": "291520c3",
   "metadata": {},
   "outputs": [],
   "source": [
    "print(\"%age var explained by 1st \",77.57590469 +17.74794969)"
   ]
  }
 ],
 "metadata": {
  "kernelspec": {
   "display_name": "Python 3 (ipykernel)",
   "language": "python",
   "name": "python3"
  },
  "language_info": {
   "codemirror_mode": {
    "name": "ipython",
    "version": 3
   },
   "file_extension": ".py",
   "mimetype": "text/x-python",
   "name": "python",
   "nbconvert_exporter": "python",
   "pygments_lexer": "ipython3",
   "version": "3.9.18"
  }
 },
 "nbformat": 4,
 "nbformat_minor": 5
}
